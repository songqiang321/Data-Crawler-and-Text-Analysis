{
 "cells": [
  {
   "cell_type": "code",
   "execution_count": 2,
   "metadata": {},
   "outputs": [
    {
     "name": "stdout",
     "output_type": "stream",
     "text": [
      "构造方法被调用！\n",
      "姓名：未知\n"
     ]
    }
   ],
   "source": [
    "class Student:\n",
    "    def __init__(self):\n",
    "        print('构造方法被调用！')\n",
    "        self.name='未知'\n",
    "    def PrintInfo(self):\n",
    "        print('姓名：%s'%self.name)\n",
    "\n",
    "if __name__=='__main__':\n",
    "    stu=Student()\n",
    "    stu.PrintInfo()        "
   ]
  },
  {
   "cell_type": "code",
   "execution_count": 44,
   "metadata": {},
   "outputs": [
    {
     "name": "stdout",
     "output_type": "stream",
     "text": [
      "4\n"
     ]
    }
   ],
   "source": [
    "\n",
    "def main():\n",
    "    #code here\n",
    "    n,q=map(int,input().split())\n",
    "    num=[]\n",
    "    for i in range(1,n+1):\n",
    "        num.append(i)   \n",
    "    start=1\n",
    "    while 1:\n",
    "        if len(num)==1:\n",
    "            break\n",
    "        k=q\n",
    "        if (start+k-1)>len(num):\n",
    "            start=(start+k-1)%len(num)\n",
    "        else:\n",
    "            start=(start+k-1)\n",
    "        num.pop(start-1)\n",
    "        if start>len(num):\n",
    "            start=start%len(num)\n",
    "       \n",
    "\n",
    "    print(num[0])\n",
    "\n",
    "\n",
    "if __name__ == '__main__':\n",
    "    main();"
   ]
  }
 ],
 "metadata": {
  "kernelspec": {
   "display_name": "base",
   "language": "python",
   "name": "python3"
  },
  "language_info": {
   "codemirror_mode": {
    "name": "ipython",
    "version": 3
   },
   "file_extension": ".py",
   "mimetype": "text/x-python",
   "name": "python",
   "nbconvert_exporter": "python",
   "pygments_lexer": "ipython3",
   "version": "3.8.5"
  },
  "orig_nbformat": 4,
  "vscode": {
   "interpreter": {
    "hash": "25429dbb76d0c9414b6779ba2f705fe02677cbfbefaaf3a0e0e921f1c53ce1da"
   }
  }
 },
 "nbformat": 4,
 "nbformat_minor": 2
}
